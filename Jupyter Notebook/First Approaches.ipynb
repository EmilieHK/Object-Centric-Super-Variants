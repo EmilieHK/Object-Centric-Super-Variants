{
 "cells": [
  {
   "cell_type": "markdown",
   "id": "bc59d39b",
   "metadata": {},
   "source": [
    "<h2>Prerequisites</h2>"
   ]
  },
  {
   "cell_type": "markdown",
   "id": "c851ce8f",
   "metadata": {},
   "source": [
    "<h3>Imports</h3>"
   ]
  },
  {
   "cell_type": "code",
   "execution_count": 1,
   "id": "8ff5ecb5",
   "metadata": {},
   "outputs": [
    {
     "name": "stderr",
     "output_type": "stream",
     "text": [
      "D:\\Program Files\\Anaconda\\lib\\site-packages\\pm4py\\objects\\petri\\__init__.py:19: UserWarning: please use the pm4py.objects.petri_net package instead.\n",
      "  warnings.warn('please use the pm4py.objects.petri_net package instead.')\n",
      "D:\\Program Files\\Anaconda\\lib\\site-packages\\pm4py\\objects\\petri\\obj.py:19: UserWarning: pm4py.objects.petri.obj is deprecated. Please use the class pm4py.objects.petri_net.obj instead.\n",
      "  warnings.warn(\"pm4py.objects.petri.obj is deprecated. Please use the class pm4py.objects.petri_net.obj instead.\")\n",
      "D:\\Program Files\\Anaconda\\lib\\site-packages\\pm4py\\objects\\petri\\exporter\\__init__.py:21: UserWarning: please use the pm4py.objects.petri_net.exporter package instead.\n",
      "  warnings.warn('please use the pm4py.objects.petri_net.exporter package instead.')\n",
      "D:\\Program Files\\Anaconda\\lib\\site-packages\\pm4py\\objects\\petri\\importer\\__init__.py:21: UserWarning: please use the pm4py.objects.petri_net.importer package instead.\n",
      "  warnings.warn('please use the pm4py.objects.petri_net.importer package instead.')\n",
      "D:\\Program Files\\Anaconda\\lib\\site-packages\\pm4py\\objects\\petri\\petrinet.py:19: UserWarning: pm4py.objects.petri.petrinet is deprecated. Please use the class pm4py.objects.petri_net.obj instead.\n",
      "  warnings.warn(\"pm4py.objects.petri.petrinet is deprecated. Please use the class pm4py.objects.petri_net.obj instead.\")\n",
      "D:\\Program Files\\Anaconda\\lib\\site-packages\\pm4py\\visualization\\petrinet\\__init__.py:20: UserWarning: please use the pm4py.visualization.petri_net package instead\n",
      "  warnings.warn(\"please use the pm4py.visualization.petri_net package instead\")\n"
     ]
    }
   ],
   "source": [
    "from ocpa.objects.log.importer.csv import factory as ocel_import_factory\n",
    "from ocpa.objects.log.importer.ocel import factory as ocel_import_factory\n",
    "from ocpa.visualization.log.variants import factory as variants_visualization_factory"
   ]
  },
  {
   "cell_type": "markdown",
   "id": "d65acc83",
   "metadata": {},
   "source": [
    "<h3>Import Test OCEL File</h3>\n",
    "OCEL file downloadable from 'http://ocel-standard.org/'. However, for testing a small OCEL file containing two process executions is used."
   ]
  },
  {
   "cell_type": "code",
   "execution_count": 2,
   "id": "d2079d5f",
   "metadata": {},
   "outputs": [],
   "source": [
    "filename = \"EventLogs/OCEL_example.jsonocel\"\n",
    "ocel = ocel_import_factory.apply(filename)"
   ]
  },
  {
   "cell_type": "markdown",
   "id": "2cb95af7",
   "metadata": {},
   "source": [
    "<h3>Import Test CSV File</h3>"
   ]
  },
  {
   "cell_type": "code",
   "execution_count": 1,
   "id": "c7ad9b55",
   "metadata": {},
   "outputs": [
    {
     "name": "stderr",
     "output_type": "stream",
     "text": [
      "D:\\Program Files\\Anaconda\\lib\\site-packages\\pm4py\\objects\\petri\\__init__.py:19: UserWarning: please use the pm4py.objects.petri_net package instead.\n",
      "  warnings.warn('please use the pm4py.objects.petri_net package instead.')\n",
      "D:\\Program Files\\Anaconda\\lib\\site-packages\\pm4py\\objects\\petri\\obj.py:19: UserWarning: pm4py.objects.petri.obj is deprecated. Please use the class pm4py.objects.petri_net.obj instead.\n",
      "  warnings.warn(\"pm4py.objects.petri.obj is deprecated. Please use the class pm4py.objects.petri_net.obj instead.\")\n",
      "D:\\Program Files\\Anaconda\\lib\\site-packages\\pm4py\\objects\\petri\\exporter\\__init__.py:21: UserWarning: please use the pm4py.objects.petri_net.exporter package instead.\n",
      "  warnings.warn('please use the pm4py.objects.petri_net.exporter package instead.')\n",
      "D:\\Program Files\\Anaconda\\lib\\site-packages\\pm4py\\objects\\petri\\importer\\__init__.py:21: UserWarning: please use the pm4py.objects.petri_net.importer package instead.\n",
      "  warnings.warn('please use the pm4py.objects.petri_net.importer package instead.')\n",
      "D:\\Program Files\\Anaconda\\lib\\site-packages\\pm4py\\objects\\petri\\petrinet.py:19: UserWarning: pm4py.objects.petri.petrinet is deprecated. Please use the class pm4py.objects.petri_net.obj instead.\n",
      "  warnings.warn(\"pm4py.objects.petri.petrinet is deprecated. Please use the class pm4py.objects.petri_net.obj instead.\")\n",
      "D:\\Program Files\\Anaconda\\lib\\site-packages\\pm4py\\visualization\\petrinet\\__init__.py:20: UserWarning: please use the pm4py.visualization.petri_net package instead\n",
      "  warnings.warn(\"please use the pm4py.visualization.petri_net package instead\")\n"
     ]
    }
   ],
   "source": [
    "from ocpa.objects.log.importer.csv import factory as ocel_import_factory\n",
    "filename = \"EventLogs/order_process_indexed.csv\"\n",
    "object_types = [\"order\", \"item\",\"delivery\"]\n",
    "parameters = {\"obj_names\":object_types,\n",
    "              \"val_names\":[],\n",
    "              \"act_name\":\"event_activity\",\n",
    "              \"time_name\":\"event_timestamp\",\n",
    "              \"sep\":\",\"}\n",
    "ocel = ocel_import_factory.apply(file_path= filename,parameters = parameters)"
   ]
  },
  {
   "cell_type": "markdown",
   "id": "000ac4be",
   "metadata": {},
   "source": [
    "<h3>Provided Variant Statistics</h3>"
   ]
  },
  {
   "cell_type": "code",
   "execution_count": 2,
   "id": "c71ea9df",
   "metadata": {},
   "outputs": [
    {
     "name": "stdout",
     "output_type": "stream",
     "text": [
      "Number of process executions: 48\n",
      "Number of variants: 12\n",
      "The variants: ['70c939f2919684da04e6e0d4a8ad9411', 'da02d9a87dda160e611b029024a88c8c', '1c94fef7fe6136b8b3740f5c9744d8a4', '7771fed26406c4a19803e9b9eed9d322', 'd13a7cd9b061ed69c4bff0cffc919bda', 'e1c3ee472f60eb3f3c2f87b5ec53247d', '291e6ea6123216e19e0f488a07ccca47', '812bc445b5881d7f6db133fc7f64a1ae', '2eea1b36f1c5d8871b0b2e8660625110', '4f4599e7e4922c1117376d72f8b9d4f3', 'e79ff5d9cb47d601e56d33b35129b4e1', 'cd8ffa58d076769d95c42bcea11abf23']\n"
     ]
    }
   ],
   "source": [
    "print(\"Number of process executions: \"+str(len(ocel.process_executions)))\n",
    "print(\"Number of variants: \"+str(len(ocel.variants)))\n",
    "print(\"The variants: \" + str(ocel.variants))"
   ]
  },
  {
   "cell_type": "markdown",
   "id": "33213dd6",
   "metadata": {},
   "source": [
    "<h3>Provided Variant Layouting</h3>"
   ]
  },
  {
   "cell_type": "code",
   "execution_count": 4,
   "id": "e0df3197",
   "metadata": {},
   "outputs": [
    {
     "name": "stdout",
     "output_type": "stream",
     "text": [
      "([['F', [[5, 5], [0, 1]]], ['D', [[3, 3], [2]]], ['G', [[6, 6], [0]]], ['H', [[3, 3], [1]]], ['B', [[1, 1], [2]]], ['A', [[0, 0], [2]]], ['E', [[4, 4], [0, 1]]], ['C', [[2, 2], [0, 2, 1]]]], {0: ('items', 'items_1'), 1: ('items', 'items_2'), 2: ('orders', 'orders_1')})\n"
     ]
    }
   ],
   "source": [
    "variant_layouting = variants_visualization_factory.apply(ocel)\n",
    "print(variant_layouting[ocel.variants[0]])"
   ]
  },
  {
   "cell_type": "code",
   "execution_count": 5,
   "id": "9caf6249",
   "metadata": {},
   "outputs": [
    {
     "name": "stdout",
     "output_type": "stream",
     "text": [
      "([['B', [[1, 1], [3]]], ['F', [[4, 4], [0, 1, 2]]], ['O', [[2, 2], [0, 1, 3, 2]]], ['I', [[3, 3], [0]]], ['A', [[0, 0], [3]]], ['E', [[3, 3], [1]]], ['D', [[3, 3], [3]]], ['I', [[3, 3], [2]]]], {0: ('items', 'items_1'), 1: ('items', 'items_2'), 2: ('items', 'items_3'), 3: ('orders', 'orders_1')})\n"
     ]
    }
   ],
   "source": [
    "def ExtractLanes(variant):\n",
    "    \n",
    "    # Separate event elements and objects\n",
    "    objects = variant[1]\n",
    "    events = sorted(variant[0],key=lambda x: (x[1][0]))\n",
    "    \n",
    "    # Store the interaction points for preservation\n",
    "    variant = dict()\n",
    "    interactionPoints = []\n",
    "    for i in range(len(events)):\n",
    "        if (len(events[i][1][1]) > 1):\n",
    "            interactionPoints.append(((events[i][0]), events[i][1][1]))\n",
    "            \n",
    "    # Create element for each lane in the variant, storing a lists of activities\n",
    "    # and the object specification\n",
    "    for i in range(len(objects)):\n",
    "        lane = []\n",
    "        for j in range(len(events)):\n",
    "            if(i in events[j][1][1]):\n",
    "                lane.append(events[j][0])     \n",
    "        variant[i] = (objects[i],lane)\n",
    "        \n",
    "    return variant, interactionPoints  "
   ]
  },
  {
   "cell_type": "markdown",
   "id": "e64a96a4",
   "metadata": {},
   "source": [
    "<h3>Extraction of Activity Lists</h3>"
   ]
  },
  {
   "cell_type": "code",
   "execution_count": 6,
   "id": "81d9a227",
   "metadata": {},
   "outputs": [],
   "source": [
    "def ExtractLanes(variant):\n",
    "    \n",
    "    # Separate event elements and objects\n",
    "    objects = variant[1]\n",
    "    events = sorted(variant[0],key=lambda x: (x[1][0]))\n",
    "    \n",
    "    # Store the interaction points for preservation\n",
    "    variant = dict()\n",
    "    interactionPoints = []\n",
    "    for i in range(len(events)):\n",
    "        if (len(events[i][1][1]) > 1):\n",
    "            interactionPoints.append(((events[i][0]), events[i][1][1]))\n",
    "            \n",
    "    # Create element for each lane in the variant, storing a lists of activities\n",
    "    # and the object specification\n",
    "    for i in range(len(objects)):\n",
    "        lane = []\n",
    "        for j in range(len(events)):\n",
    "            if(i in events[j][1][1]):\n",
    "                lane.append(events[j][0])     \n",
    "        variant[i] = (objects[i],lane)\n",
    "        \n",
    "    return variant, interactionPoints             "
   ]
  },
  {
   "cell_type": "code",
   "execution_count": 7,
   "id": "241e61a0",
   "metadata": {},
   "outputs": [
    {
     "name": "stdout",
     "output_type": "stream",
     "text": [
      "{0: (('items', 'items_1'), ['C', 'E', 'F', 'G']), 1: (('items', 'items_2'), ['C', 'H', 'E', 'F']), 2: (('orders', 'orders_1'), ['A', 'B', 'C', 'D'])}\n",
      "[('C', [0, 2, 1]), ('E', [0, 1]), ('F', [0, 1])]\n"
     ]
    }
   ],
   "source": [
    "convertedVariant1, interactionPoints1 = ExtractLanes(variant_layouting[ocel.variants[0]])\n",
    "print(convertedVariant1)\n",
    "print(interactionPoints1)"
   ]
  },
  {
   "cell_type": "code",
   "execution_count": 8,
   "id": "19ab6fc5",
   "metadata": {},
   "outputs": [
    {
     "name": "stdout",
     "output_type": "stream",
     "text": [
      "{0: (('items', 'items_1'), ['O', 'I', 'F']), 1: (('items', 'items_2'), ['O', 'E', 'F']), 2: (('items', 'items_3'), ['O', 'I', 'F']), 3: (('orders', 'orders_1'), ['A', 'B', 'O', 'D'])}\n",
      "[('O', [0, 1, 3, 2]), ('F', [0, 1, 2])]\n"
     ]
    }
   ],
   "source": [
    "convertedVariant2, interactionPoints2 = ExtractLanes(variant_layouting[ocel.variants[1]])\n",
    "print(convertedVariant2)\n",
    "print(interactionPoints2)"
   ]
  },
  {
   "cell_type": "markdown",
   "id": "ed704423",
   "metadata": {},
   "source": [
    "<h1>Optional Activity & Exclusive Choice Pattern</h1>"
   ]
  },
  {
   "cell_type": "markdown",
   "id": "07a0f95c",
   "metadata": {},
   "source": [
    "<h2>Largest Order-Preserving common Sub-Process</h2>"
   ]
  },
  {
   "cell_type": "markdown",
   "id": "cf660850",
   "metadata": {},
   "source": [
    "<h3>Order-Preserving Shared Activities of 2 Lists</h3>"
   ]
  },
  {
   "cell_type": "code",
   "execution_count": 9,
   "id": "9663c3e2",
   "metadata": {},
   "outputs": [],
   "source": [
    "def MaxSharedActivities(subvariant1, subvariant2):\n",
    "    # Provisional data structures:\n",
    "    # Input - subvariant1, subvariant2: lists\n",
    "    # Output - result: Dict<ActivityName:Index1, Index2>\n",
    "    \n",
    "    # Initialization, copy elements\n",
    "    activitySets = []\n",
    "    l1 = subvariant1\n",
    "    \n",
    "    # Retrieves all common sublists that ensure the precise order\n",
    "    for i in range(len(l1)):\n",
    "        \n",
    "        # Keeping track of the original indices and the remaining sublists\n",
    "        l2 = subvariant2\n",
    "        l2I = list(range(0,len(subvariant2)))\n",
    "        set = dict()\n",
    "        \n",
    "        # For each activity in subvariant1 as starting point find the list of activities\n",
    "        # that appear in both variants in the same order\n",
    "        for j in range(i,len(l1)):\n",
    "            if (l1[j] in l2):\n",
    "                set[l1[j]]=(j,l2I[l2.index(l1[j])])\n",
    "                l2I = l2I[l2.index(l1[j])+1:]\n",
    "                l2 = l2[l2.index(l1[j])+1:]\n",
    "        activitySets.append(set)\n",
    "        \n",
    "    # Return the maximal list of activities for optimality\n",
    "    return max(activitySets, key=len)     "
   ]
  },
  {
   "cell_type": "code",
   "execution_count": 10,
   "id": "5eeb39cb",
   "metadata": {},
   "outputs": [
    {
     "name": "stdout",
     "output_type": "stream",
     "text": [
      "{'D': (1, 1), 'B': (4, 2)}\n"
     ]
    }
   ],
   "source": [
    "print(MaxSharedActivities([\"A\",\"D\",\"A\",\"D\",\"B\"],[\"E\",\"D\",\"B\"]))"
   ]
  },
  {
   "cell_type": "markdown",
   "id": "bf44e654",
   "metadata": {},
   "source": [
    "<h3>Generic Order-Preserving Shared Activities</h3>"
   ]
  },
  {
   "cell_type": "code",
   "execution_count": 11,
   "id": "ea31fabd",
   "metadata": {},
   "outputs": [],
   "source": [
    "def MaxOrderPreservingCommonActivities(subvariants):\n",
    "    # Provisional data structures:\n",
    "    # Input - subvariants: lists of N lists\n",
    "    # Output - result: Dict<ActivityName:Index1,...,IndexN>\n",
    "    \n",
    "    # Initialization, copy elements\n",
    "    activitySets = []\n",
    "    l = subvariants\n",
    "    baseSubVariant = l[0]\n",
    "    \n",
    "    # Retrieves all common sublists that ensure the precise order\n",
    "    for i in range(len(baseSubVariant)):\n",
    "        \n",
    "        # Keeping track of the original indices and the remaining sublists\n",
    "        comparisonSubVariants = [] \n",
    "        indicesSubVariants = []\n",
    "        for variant in range(1,len(l)):\n",
    "            comparisonSubVariants.append(subvariants[variant])\n",
    "            indicesSubVariants.append(list(range(0,len(subvariants[variant]))))\n",
    "            \n",
    "        set = dict()\n",
    "        \n",
    "        # For each activity in baseSubVariant as starting point find the list of activities\n",
    "        # that appear in all other variants\n",
    "        for j in range(i,len(baseSubVariant)):\n",
    "            if (all(baseSubVariant[j] in subvariant for subvariant in comparisonSubVariants[1:])):\n",
    "                #Create result tuple\n",
    "                indices = ()\n",
    "                indices = indices + (j,)\n",
    "                \n",
    "                # Add the corresponding index for each other variant and adjust the lists\n",
    "                for k in range(len(comparisonSubVariants)):\n",
    "                    indices = indices + (indicesSubVariants[k][comparisonSubVariants[k].index(baseSubVariant[j])],)\n",
    "                    indicesSubVariants[k] = indicesSubVariants[k][comparisonSubVariants[k].index(baseSubVariant[j])+1:]\n",
    "                    comparisonSubVariants[k] = comparisonSubVariants[k][comparisonSubVariants[k].index(baseSubVariant[j])+1:]\n",
    "                \n",
    "                set[baseSubVariant[j]] = indices\n",
    "        activitySets.append(set)\n",
    "        \n",
    "    # Return the maximal list of activities for optimality\n",
    "    return max(activitySets, key=len)"
   ]
  },
  {
   "cell_type": "code",
   "execution_count": 12,
   "id": "d27e0733",
   "metadata": {},
   "outputs": [
    {
     "data": {
      "text/plain": [
       "{'A': (3, 0, 1, 0)}"
      ]
     },
     "execution_count": 12,
     "metadata": {},
     "output_type": "execute_result"
    }
   ],
   "source": [
    "MaxOrderPreservingCommonActivities([[\"C\",\"B\",\"F\",\"A\",\"B\"],[\"A\",\"B\",\"T\",\"C\",\"F\"],[\"T\",\"A\",\"B\",\"C\",\"F\"],[\"A\"]])"
   ]
  },
  {
   "cell_type": "code",
   "execution_count": 30,
   "id": "26846f77",
   "metadata": {},
   "outputs": [
    {
     "data": {
      "text/plain": [
       "{'E': (1, 2, 1), 'F': (2, 3, 2)}"
      ]
     },
     "execution_count": 30,
     "metadata": {},
     "output_type": "execute_result"
    }
   ],
   "source": [
    "MaxOrderPreservingCommonActivities([convertedVariant1[0][1],convertedVariant1[1][1],convertedVariant2[1][1]])"
   ]
  },
  {
   "cell_type": "markdown",
   "id": "a8d5765b",
   "metadata": {},
   "source": [
    "<h2>Optional Activities in Super-Variant</h2>"
   ]
  },
  {
   "cell_type": "code",
   "execution_count": 18,
   "id": "bfc5caab",
   "metadata": {},
   "outputs": [],
   "source": [
    "def OptionalActivities(subvariant1, subvariant2):\n",
    "    \n",
    "    # Provisional data structures:\n",
    "    # Input - subvariant1, subvariant2: lists\n",
    "    # Output - result: Dict<Index:ActivityName, Opt Indicator>\n",
    "    result = dict()\n",
    "    \n",
    "    # Determine common activities of both variants\n",
    "    intersection = MaxSharedActivities(subvariant1, subvariant2)\n",
    "    \n",
    "    # If the variants share no common variants, then they must represent choices, return\n",
    "    if (not len(intersection)):\n",
    "            return dict()\n",
    "            \n",
    "    else :\n",
    "        print(\"The variants both contain the following common activities: \" + str(intersection))\n",
    "        \n",
    "    #Initiate indices\n",
    "    posInSuper = 0\n",
    "    startIndex1 = 0\n",
    "    startIndex2 = 0\n",
    "    currentIndex1 = 0\n",
    "    currentIndex2 = 0\n",
    "        \n",
    "    # For each commonly shared activities, check the subprocesses between the current\n",
    "    # activity and previous shared activity.\n",
    "    for i in range(len(intersection)):\n",
    "        \n",
    "        # Determine the corresponding indices of the current shared activity in both variants\n",
    "        currentIndex1 = intersection[list(intersection.keys())[i]][0]\n",
    "        currentIndex2 = intersection[list(intersection.keys())[i]][1]\n",
    "        \n",
    "        # Determine the corresponding preceeding subprocesses between to shared activities\n",
    "        preceeding1 = subvariant1[startIndex1:currentIndex1]\n",
    "        preceeding2 = subvariant2[startIndex2:currentIndex2]    \n",
    "        print(\"Optional preceeding subprocess of variant 1: \" + str(preceeding1))\n",
    "        print(\"Optional preceeding subprocess of variant 2: \" + str(preceeding2))\n",
    "        \n",
    "        # If one of the subprocesses is empty, then add the other subprocess as optional\n",
    "        if(preceeding1==[]):\n",
    "            # Add every activity as atomic to the supervariant and as optional\n",
    "            for i in range(startIndex2,currentIndex2):\n",
    "                result[posInSuper] = (subvariant2[i],\"Opt\")\n",
    "                posInSuper+=1 \n",
    "            # Add the common activity to the supervariant, not as optional    \n",
    "            result[posInSuper] = (subvariant2[currentIndex2],\"NOpt\")\n",
    "            posInSuper+=1\n",
    "        \n",
    "        # If the other subprocesses is empty, then add the first subprocess as optional\n",
    "        elif(preceeding2==[]):\n",
    "            # Add every activity as atomic to the supervariant and as optional\n",
    "            for i in range(startIndex1,currentIndex1):\n",
    "                result[posInSuper] = (subvariant1[i],\"Opt\")\n",
    "                posInSuper+=1  \n",
    "            # Add the common activity to the supervariant, not as optional \n",
    "            result[posInSuper] = (subvariant1[currentIndex1],\"NOpt\")\n",
    "            posInSuper+=1\n",
    "            \n",
    "        else:\n",
    "            # In this case, neither one or the other subprocesses is optional\n",
    "            # we must summarize the underlying process\n",
    "            return result\n",
    "\n",
    "        # Update indices\n",
    "        startIndex1 = currentIndex1+1\n",
    "        startIndex2 = currentIndex2+1\n",
    "        \n",
    "    # Variant 1 has remaining activities while variant 2 does not\n",
    "    if(currentIndex1<len(subvariant1)-1 and currentIndex2==len(subvariant2)-1):\n",
    "        for i in range(startIndex1,len(subvariant1)):\n",
    "                result[posInSuper] = (subvariant1[i],\"Opt\")\n",
    "                posInSuper+=1\n",
    "        \n",
    "    # Variant 2 has remaining activities while variant 1 does not\n",
    "    elif(currentIndex2<len(subvariant2)-1 and currentIndex1==len(subvariant1)-1):\n",
    "        for i in range(startIndex2,len(subvariant2)):\n",
    "            result[posInSuper] = (subvariant2[i],\"Opt\")\n",
    "            posInSuper+=1\n",
    "            \n",
    "    else:\n",
    "        # In this case, neither one or the other ending subprocesses is optional\n",
    "        # we must summarize the underlying process\n",
    "        return result\n",
    "\n",
    "    return result\n",
    "        "
   ]
  },
  {
   "cell_type": "code",
   "execution_count": 19,
   "id": "be93d298",
   "metadata": {},
   "outputs": [
    {
     "name": "stdout",
     "output_type": "stream",
     "text": [
      "The variants both contain the following common activities: {'A': (0, 0), 'B': (1, 1), 'C': (2, 2), 'E': (3, 3)}\n",
      "Optional preceeding subprocess of variant 1: []\n",
      "Optional preceeding subprocess of variant 2: []\n",
      "Optional preceeding subprocess of variant 1: []\n",
      "Optional preceeding subprocess of variant 2: []\n",
      "Optional preceeding subprocess of variant 1: []\n",
      "Optional preceeding subprocess of variant 2: []\n",
      "Optional preceeding subprocess of variant 1: []\n",
      "Optional preceeding subprocess of variant 2: []\n",
      "{0: ('A', 'NOpt'), 1: ('B', 'NOpt'), 2: ('C', 'NOpt'), 3: ('E', 'NOpt'), 4: ('G', 'Opt'), 5: ('H', 'Opt')}\n"
     ]
    }
   ],
   "source": [
    "optionalTestVariant = OptionalActivities([\"A\",\"B\",\"C\",\"E\"],[\"A\",\"B\",\"C\",\"E\",\"G\",\"H\"])\n",
    "print(optionalTestVariant)"
   ]
  },
  {
   "cell_type": "code",
   "execution_count": 20,
   "id": "54619d3e",
   "metadata": {},
   "outputs": [
    {
     "name": "stdout",
     "output_type": "stream",
     "text": [
      "The variants both contain the following common activities: {'C': (0, 0), 'E': (1, 2), 'F': (2, 3)}\n",
      "Optional preceeding subprocess of variant 1: []\n",
      "Optional preceeding subprocess of variant 2: []\n",
      "Optional preceeding subprocess of variant 1: []\n",
      "Optional preceeding subprocess of variant 2: ['H']\n",
      "Optional preceeding subprocess of variant 1: []\n",
      "Optional preceeding subprocess of variant 2: []\n",
      "{0: ('C', 'NOpt'), 1: ('H', 'Opt'), 2: ('E', 'NOpt'), 3: ('F', 'NOpt'), 4: ('G', 'Opt')}\n"
     ]
    }
   ],
   "source": [
    "optionalVariant = OptionalActivities(convertedVariant1[0][1],convertedVariant1[1][1])\n",
    "print(optionalVariant)"
   ]
  },
  {
   "cell_type": "markdown",
   "id": "7e8b255a",
   "metadata": {},
   "source": [
    "<h2>Exclusive Choice Activities in Super-Variant</h2>"
   ]
  },
  {
   "cell_type": "code",
   "execution_count": 21,
   "id": "6f0f6b09",
   "metadata": {},
   "outputs": [],
   "source": [
    "def ExclusiveChoiceActivities(subvariant1, subvariant2):\n",
    "    \n",
    "    # Provisional data structures:\n",
    "    # Input - subvariant1, subvariant2: lists\n",
    "    # Output - result: Dict<Index:ActivityName, Exc Indicator>\n",
    "    result = dict()\n",
    "    \n",
    "    # Determine common activities of both variants\n",
    "    intersection = MaxSharedActivities(subvariant1, subvariant2)\n",
    "    \n",
    "    # If the variants share no common variants, then they must represent choices, return\n",
    "    if (not len(intersection)):\n",
    "            return dict()\n",
    "            \n",
    "    else :\n",
    "        print(\"The variants both contain the following common activities: \" + str(intersection))\n",
    "        \n",
    "    #Initiate indices\n",
    "    posInSuper = 0\n",
    "    startIndex1 = 0\n",
    "    startIndex2 = 0\n",
    "    currentIndex1 = 0\n",
    "    currentIndex2 = 0\n",
    "        \n",
    "    # For each commonly shared activities, check the subprocesses between the current\n",
    "    # activity and previous shared activity.\n",
    "    for i in range(len(intersection)):\n",
    "        \n",
    "        # Determine the corresponding indices of the current shared activity in both variants\n",
    "        currentIndex1 = intersection[list(intersection.keys())[i]][0]\n",
    "        currentIndex2 = intersection[list(intersection.keys())[i]][1]\n",
    "        \n",
    "        # Determine the corresponding preceeding subprocesses between to shared activities\n",
    "        preceeding1 = subvariant1[startIndex1:currentIndex1]\n",
    "        preceeding2 = subvariant2[startIndex2:currentIndex2]    \n",
    "        print(\"Preceeding subprocess choice of variant 1: \" + str(preceeding1))\n",
    "        print(\"Preceeding subprocess choice of variant 2: \" + str(preceeding2))\n",
    "        \n",
    "        \n",
    "        # In this case, either one or the other ending subprocesses is optional\n",
    "        # we must summarize the underlying process\n",
    "        if(preceeding1==[] or preceeding2==[]):\n",
    "            # In this case there is no subprocess to evaluate\n",
    "            if(not(preceeding1==[] and preceeding2==[])):\n",
    "                return result\n",
    "            else:\n",
    "                result[posInSuper] = (subvariant1[currentIndex1],\"NExc\")\n",
    "                posInSuper+=1\n",
    "               # Neither subprocess is empty, thus both subprocesses are alternatives of\n",
    "        # an exclusive choice and are added as that\n",
    "        else:\n",
    "            # Add every activity of the two subprocesses as a choice to the supervariant \n",
    "            for i in range(max(len(preceeding1),len(preceeding2))):\n",
    "                result[posInSuper] = ((preceeding1,preceeding2),\"Exc\")\n",
    "                posInSuper+=1\n",
    "                \n",
    "            # Add the common activity to the supervariant, not as an exclusive choice\n",
    "            result[posInSuper] = (subvariant1[currentIndex1],\"NExc\")\n",
    "            posInSuper+=1\n",
    "            \n",
    "        # Update indices\n",
    "        startIndex1 = currentIndex1+1\n",
    "        startIndex2 = currentIndex2+1\n",
    "        \n",
    "    # Variant 1 or 2 has remaining activities \n",
    "    if(currentIndex1<len(subvariant1)-1 and currentIndex2<len(subvariant2)-1):\n",
    "        succeeding1 = subvariant1[startIndex1:]\n",
    "        succeeding2 = subvariant2[startIndex2:]\n",
    "        for i in range(max(len(succeeding1),len(succeeding2))):\n",
    "            result[posInSuper] = ((succeeding1,succeeding2),\"Exc\")\n",
    "            posInSuper+=1  \n",
    "                \n",
    "    elif(currentIndex1<len(subvariant1)-1 or currentIndex2<len(subvariant2)-1):\n",
    "        # In this case, eeither one or the other ending subprocesses is optional\n",
    "        # we must summarize the underlying process\n",
    "        return result\n",
    "    \n",
    "    else:\n",
    "        # No remaining activities, thus, no exclusive choice can be extracted\n",
    "        return result\n",
    "\n",
    "    return result\n",
    "        "
   ]
  },
  {
   "cell_type": "code",
   "execution_count": 22,
   "id": "69d84fd5",
   "metadata": {},
   "outputs": [
    {
     "name": "stdout",
     "output_type": "stream",
     "text": [
      "The variants both contain the following common activities: {'A': (0, 0), 'C': (2, 3)}\n",
      "Preceeding subprocess choice of variant 1: []\n",
      "Preceeding subprocess choice of variant 2: []\n",
      "Preceeding subprocess choice of variant 1: ['B']\n",
      "Preceeding subprocess choice of variant 2: ['D', 'E']\n",
      "{0: ('A', 'NExc'), 1: ((['B'], ['D', 'E']), 'Exc'), 2: ((['B'], ['D', 'E']), 'Exc'), 3: ('C', 'NExc'), 4: ((['F'], ['T']), 'Exc')}\n"
     ]
    }
   ],
   "source": [
    "exclusiveChoiceTestVariant = ExclusiveChoiceActivities([\"A\",\"B\",\"C\",\"F\"],[\"A\",\"D\",\"E\",\"C\",\"T\"])\n",
    "print(exclusiveChoiceTestVariant)"
   ]
  },
  {
   "cell_type": "code",
   "execution_count": 23,
   "id": "7e1a2f09",
   "metadata": {},
   "outputs": [
    {
     "name": "stdout",
     "output_type": "stream",
     "text": [
      "The variants both contain the following common activities: {'F': (2, 2)}\n",
      "Preceeding subprocess choice of variant 1: ['C', 'E']\n",
      "Preceeding subprocess choice of variant 2: ['O', 'I']\n",
      "{0: ((['C', 'E'], ['O', 'I']), 'Exc'), 1: ((['C', 'E'], ['O', 'I']), 'Exc'), 2: ('F', 'NExc')}\n"
     ]
    }
   ],
   "source": [
    "exclusiveChoiceVariant = ExclusiveChoiceActivities(convertedVariant1[0][1],convertedVariant2[0][1])\n",
    "print(exclusiveChoiceVariant)"
   ]
  },
  {
   "cell_type": "markdown",
   "id": "c8d71007",
   "metadata": {},
   "source": [
    "<h2>Apply Patterns</h2>"
   ]
  },
  {
   "cell_type": "code",
   "execution_count": 24,
   "id": "0395dbbf",
   "metadata": {},
   "outputs": [],
   "source": [
    "def ApplyPatterns(subvariant1, subvariant2):\n",
    "     # Provisional data structures:\n",
    "    # Input - subvariant1, subvariant2: lists\n",
    "    # Output - result: Dict<Index:ActivityName, Exc, Opt Indicator>\n",
    "    result = dict()\n",
    "    \n",
    "    # Determine common activities of both variants\n",
    "    intersection = MaxSharedActivities(subvariant1, subvariant2)\n",
    "    \n",
    "    # If the variants share no common variants, then they must represent choices, return\n",
    "    if (not len(intersection)):\n",
    "            return dict()\n",
    "            \n",
    "    else :\n",
    "        print(\"The variants both contain the following common activities: \" + str(intersection))\n",
    "        \n",
    "    #Initiate indices\n",
    "    posInSuper = 0\n",
    "    startIndex1 = 0\n",
    "    startIndex2 = 0\n",
    "    currentIndex1 = 0\n",
    "    currentIndex2 = 0\n",
    "    \n",
    "    # For each commonly shared activities, check the subprocesses between the current\n",
    "    # activity and previous shared activity.\n",
    "    for i in range(len(intersection)):\n",
    "        \n",
    "        # Determine the corresponding indices of the current shared activity in both variants\n",
    "        currentIndex1 = intersection[list(intersection.keys())[i]][0]\n",
    "        currentIndex2 = intersection[list(intersection.keys())[i]][1]\n",
    "        \n",
    "        # Determine the corresponding preceeding subprocesses between to shared activities\n",
    "        preceeding1 = subvariant1[startIndex1:currentIndex1]\n",
    "        preceeding2 = subvariant2[startIndex2:currentIndex2]     \n",
    "        \n",
    "        # If one of the subprocesses is empty, then add the other subprocess as optional\n",
    "        if(preceeding1==[]):\n",
    "            # Add every activity as atomic to the supervariant and as optional\n",
    "            for i in range(startIndex2,currentIndex2):\n",
    "                result[posInSuper] = (subvariant2[i],\"Optional\")\n",
    "                posInSuper+=1 \n",
    "            # Add the common activity to the supervariant, not as optional    \n",
    "            result[posInSuper] = (subvariant2[currentIndex2],\"Shared\")\n",
    "            posInSuper+=1\n",
    "        \n",
    "        # If the other subprocesses is empty, then add the first subprocess as optional\n",
    "        elif(preceeding2==[]):\n",
    "            # Add every activity as atomic to the supervariant and as optional\n",
    "            for i in range(startIndex1,currentIndex1):\n",
    "                result[posInSuper] = (subvariant1[i],\"Optional\")\n",
    "                posInSuper+=1  \n",
    "            # Add the common activity to the supervariant, not as optional \n",
    "            result[posInSuper] = (subvariant1[currentIndex1],\"Shared\")\n",
    "            posInSuper+=1\n",
    "            \n",
    "        else:\n",
    "            for i in range(max(len(preceeding1),len(preceeding2))):\n",
    "                result[posInSuper] = ((preceeding1,preceeding2),\"Alternative\")\n",
    "                posInSuper+=1\n",
    "            result[posInSuper] = (subvariant1[currentIndex1],\"Shared\")\n",
    "            posInSuper+=1\n",
    "\n",
    "        # Update indices\n",
    "        startIndex1 = currentIndex1+1\n",
    "        startIndex2 = currentIndex2+1\n",
    "        \n",
    "    # Variant 1 has remaining activities while variant 2 does not\n",
    "    if(currentIndex1<len(subvariant1)-1 and currentIndex2==len(subvariant2)-1):\n",
    "        for i in range(startIndex1,len(subvariant1)):\n",
    "                result[posInSuper] = (subvariant1[i],\"Optional\")\n",
    "                posInSuper+=1\n",
    "        \n",
    "    # Variant 2 has remaining activities while variant 1 does not\n",
    "    elif(currentIndex2<len(subvariant2)-1 and currentIndex1==len(subvariant1)-1):\n",
    "        for i in range(startIndex2,len(subvariant2)):\n",
    "            result[posInSuper] = (subvariant2[i],\"Optional\")\n",
    "            posInSuper+=1\n",
    "            \n",
    "    else:\n",
    "        succeeding1 = subvariant1[startIndex1:]\n",
    "        succeeding2 = subvariant2[startIndex2:]\n",
    "        for i in range(max(len(succeeding1),len(succeeding2))):\n",
    "            result[posInSuper] = ((succeeding1,succeeding2),\"Alternative\")\n",
    "            posInSuper+=1\n",
    "\n",
    "    return result\n",
    "    "
   ]
  },
  {
   "cell_type": "code",
   "execution_count": 25,
   "id": "c1ba3450",
   "metadata": {},
   "outputs": [
    {
     "name": "stdout",
     "output_type": "stream",
     "text": [
      "The variants both contain the following common activities: {'A': (0, 0), 'B': (1, 1), 'C': (3, 2)}\n",
      "{0: ('A', 'Shared'), 1: ('B', 'Shared'), 2: ('G', 'Optional'), 3: ('C', 'Shared'), 4: ((['D'], ['E', 'F']), 'Alternative'), 5: ((['D'], ['E', 'F']), 'Alternative')}\n"
     ]
    }
   ],
   "source": [
    "superVariant = ApplyPatterns([\"A\",\"B\",\"G\",\"C\",\"D\"], [\"A\",\"B\",\"C\",\"E\",\"F\"])\n",
    "print(superVariant)"
   ]
  },
  {
   "cell_type": "code",
   "execution_count": 26,
   "id": "c81089ca",
   "metadata": {},
   "outputs": [
    {
     "name": "stdout",
     "output_type": "stream",
     "text": [
      "The variants both contain the following common activities: {'A': (0, 0), 'B': (3, 1), 'C': (5, 2)}\n",
      "{0: ('A', 'Shared'), 1: ('A', 'Optional'), 2: ('A', 'Optional'), 3: ('B', 'Shared'), 4: ('G', 'Optional'), 5: ('C', 'Shared'), 6: ((['D'], ['E', 'F']), 'Alternative'), 7: ((['D'], ['E', 'F']), 'Alternative')}\n"
     ]
    }
   ],
   "source": [
    "superVariant = ApplyPatterns([\"A\",\"A\",\"A\",\"B\",\"G\",\"C\",\"D\"], [\"A\",\"B\",\"C\",\"E\",\"F\"])\n",
    "print(superVariant)"
   ]
  },
  {
   "cell_type": "code",
   "execution_count": null,
   "id": "33a2f1e1",
   "metadata": {},
   "outputs": [],
   "source": [
    "def check_optional_pattern(activities):\n",
    "    '''\n",
    "    Checks whether only one of the given activities subsequences is non-empty, thus allowing \n",
    "    to apply the Optional Pattern\n",
    "    :param activities: subsequences of activities of multiple lanes between common activities\n",
    "    :type activities: list\n",
    "    :return: Whether or not the Optional Pattern can be applied\n",
    "    :rtype: Boolean\n",
    "    '''\n",
    "    non_empty_sequences = [activity_list[0] for activity_list in activities if activity_list[0]]\n",
    "    non_empty_sequences = [list(sequence) for sequence in set(tuple(sequence) for sequence in non_empty_sequences)]\n",
    "    return len(non_empty_sequences) == 1"
   ]
  },
  {
   "cell_type": "code",
   "execution_count": null,
   "id": "c471c351",
   "metadata": {},
   "outputs": [],
   "source": [
    "def apply_patterns(activities, interactions):\n",
    "    if sum([len(activity_list[0]) for activity_list in activities]) == 0:\n",
    "        return [],[]\n",
    "    \n",
    "    elements = []\n",
    "    indices = []\n",
    "    \n",
    "    if(check_optional_pattern(activities)):\n",
    "        \n",
    "        optional_activities = [activity_list for activity_list in activities if activity_list[0]][0]\n",
    "        for i in range(len(optional_activities[0])):\n",
    "            elements.append(OptionalConstruct(optional_activities[0][i]))\n",
    "            indices.append(optional_activities[1][i])\n",
    "        return elements, indices\n",
    "    else:\n",
    "        \n",
    "        choice_activities = [activity_list for activity_list in activities]\n",
    "        longest_option = max(choice_activities, key=len)\n",
    "        for i in range(len(longest_option[0])):\n",
    "            unique_choice_sequences = [list(sequence) for sequence in set(tuple(sequence) for sequence in [option[0] for option in choice_activities])]\n",
    "            elements.append(ChoiceConstruct(unique_choice_sequences))\n",
    "            indices.append(longest_option[1])\n",
    "        return elements, indices"
   ]
  },
  {
   "cell_type": "code",
   "execution_count": null,
   "id": "25c71118",
   "metadata": {},
   "outputs": [],
   "source": [
    "def summarize_lanes(lanes, interactions):\n",
    "    '''\n",
    "    Yields all possible summarizations of lanes of the same object type\n",
    "    :param lanes: The lanes of the same object type that need summarization\n",
    "    :type lanes: List of Variant Lanes\n",
    "    :param interactions: The interaction points of the variant of the lanes\n",
    "    :type interactions: List of Interaction Points\n",
    "    :return: The summarization of the given lanes\n",
    "    :rtype: SummarizedLane\n",
    "    '''\n",
    "    common_activities = max_order_preserving_common_activities(lanes)\n",
    "    print(\"The lanes contain the following common activities: \" + str(list(common_activities.keys())))\n",
    "    \n",
    "    # Initializing the values for the summarized lanes object\n",
    "    elements = []\n",
    "    horizontal_indices = []\n",
    "    object_type = lanes[0].object_type\n",
    "    lane_name = lanes[0].object_type + \" i\"\n",
    "    lane_id = tuple([lane.lane_id for lane in lanes])\n",
    "    \n",
    "    # Add current indices for all lanes into a list\n",
    "    positions = []\n",
    "    for i in range(len(lanes)):\n",
    "        first_index = list(common_activities.values())[0][i]\n",
    "        positions.append((0,first_index))\n",
    "        \n",
    "    for i in range(len(common_activities)):\n",
    "        \n",
    "        # Determine all interval subprocesses and summarize them\n",
    "        interval_subprocesses = []\n",
    "        for j in range(len(lanes)):\n",
    "            start_index = positions[j][0]\n",
    "            end_index = lanes[j].horizontal_indices.index(positions[j][1])\n",
    "            interval_subprocesses.append((lanes[j].activities[start_index:end_index],lanes[j].horizontal_indices[start_index:end_index]))\n",
    "        \n",
    "        # Add summarized subprocess to elements\n",
    "        interval_elements, interval_indices = apply_patterns(interval_subprocesses, interactions)\n",
    "        elements.extend(interval_elements)\n",
    "        horizontal_indices.extend(interval_indices)\n",
    "        \n",
    "        # Add the common activity to the elements of the summarized lane\n",
    "        elements.append(CommonConstruct(list(common_activities.keys())[i]))\n",
    "        horizontal_indices.append(min(list(common_activities.values())[i]))\n",
    "            \n",
    "        # Update indices for the next iteration\n",
    "        new_positions = []\n",
    "        for j in range(len(lanes)):\n",
    "            if(i+1 < len(common_activities.values())):\n",
    "                next_index = list(common_activities.values())[i+1][j]\n",
    "            else:\n",
    "                next_index = lanes[j].horizontal_indices[-1]\n",
    "            new_positions.append((lanes[j].horizontal_indices.index(positions[j][1])+1,next_index))\n",
    "        positions = new_positions\n",
    "    \n",
    "    # Check all activities after the last common activity\n",
    "    interval_subprocesses = []\n",
    "    for j in range(len(lanes)):\n",
    "        start_index = positions[j][0]\n",
    "        interval_subprocesses.append((lanes[j].activities[start_index:],lanes[j].horizontal_indices[start_index:]))\n",
    "    \n",
    "    # Add summarized subprocess to elements\n",
    "    interval_elements, interval_indices = apply_patterns(interval_subprocesses, interactions)\n",
    "    elements.extend(interval_elements)\n",
    "    horizontal_indices.extend(interval_indices)\n",
    "        \n",
    "    return SummarizedLane(lane_id, lane_name, object_type, elements, horizontal_indices)\n",
    "                                          \n",
    "            \n",
    "        "
   ]
  },
  {
   "cell_type": "code",
   "execution_count": null,
   "id": "1c37918d",
   "metadata": {},
   "outputs": [],
   "source": [
    "def summarize_variant(variant):\n",
    "    '''\n",
    "    \n",
    "    '''\n",
    "    result = []\n",
    "    \n",
    "    # Determine all object types involved in the variant\n",
    "    types = variant.object_types\n",
    "    \n",
    "    # Summarize all lanes of the same object type\n",
    "    for object_type in types:\n",
    "            type_lanes = []\n",
    "            \n",
    "            # Determine the lanes that are to be summarized\n",
    "            for lane in variant.lanes:\n",
    "                if (lane.has_type(object_type)):\n",
    "                    type_lanes.append(lane)\n",
    "            \n",
    "            # If the variant only has one involved object of a type, no summarization is needed\n",
    "            if(len(type_lanes) == 1):\n",
    "                print(\"No need to summarize lanes for the object type \" + object_type + \".\")\n",
    "                result.append(convert_to_summarized_format(type_lanes[0]))\n",
    "            else:\n",
    "                print(\"We need to summarize the lanes for the object type \" + object_type + \".\")\n",
    "                result.append(summarize_lanes(type_lanes,variant.interaction_points))\n",
    "    #re_align_interaction_points(result, variant.interaction_points)\n",
    "    print(\"\\n\")\n",
    "    print(\"Result: \\n\")\n",
    "    for lane in result:\n",
    "        print(lane)\n",
    "    return(result)\n",
    "                "
   ]
  },
  {
   "cell_type": "code",
   "execution_count": null,
   "id": "3b02f70e",
   "metadata": {},
   "outputs": [],
   "source": [
    "summarized_variant = summarize_variant(variant)"
   ]
  },
  {
   "cell_type": "code",
   "execution_count": null,
   "id": "e607b399",
   "metadata": {},
   "outputs": [],
   "source": [
    "print(variant)\n",
    "for lane in summarized_variant:\n",
    "    print(str(lane))"
   ]
  }
 ],
 "metadata": {
  "kernelspec": {
   "display_name": "Python 3",
   "language": "python",
   "name": "python3"
  },
  "language_info": {
   "codemirror_mode": {
    "name": "ipython",
    "version": 3
   },
   "file_extension": ".py",
   "mimetype": "text/x-python",
   "name": "python",
   "nbconvert_exporter": "python",
   "pygments_lexer": "ipython3",
   "version": "3.8.10"
  },
  "toc": {
   "base_numbering": 1,
   "nav_menu": {},
   "number_sections": true,
   "sideBar": true,
   "skip_h1_title": false,
   "title_cell": "Table of Contents",
   "title_sidebar": "Contents",
   "toc_cell": false,
   "toc_position": {
    "height": "calc(100% - 180px)",
    "left": "10px",
    "top": "150px",
    "width": "384px"
   },
   "toc_section_display": true,
   "toc_window_display": true
  }
 },
 "nbformat": 4,
 "nbformat_minor": 5
}
