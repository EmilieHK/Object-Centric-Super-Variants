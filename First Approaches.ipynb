{
 "cells": [
  {
   "cell_type": "markdown",
   "id": "c851ce8f",
   "metadata": {},
   "source": [
    "<h3>Imports</h3>"
   ]
  },
  {
   "cell_type": "code",
   "execution_count": 1,
   "id": "8ff5ecb5",
   "metadata": {},
   "outputs": [
    {
     "name": "stderr",
     "output_type": "stream",
     "text": [
      "D:\\Program Files\\Anaconda\\lib\\site-packages\\pm4py\\objects\\petri\\__init__.py:19: UserWarning: please use the pm4py.objects.petri_net package instead.\n",
      "  warnings.warn('please use the pm4py.objects.petri_net package instead.')\n",
      "D:\\Program Files\\Anaconda\\lib\\site-packages\\pm4py\\objects\\petri\\obj.py:19: UserWarning: pm4py.objects.petri.obj is deprecated. Please use the class pm4py.objects.petri_net.obj instead.\n",
      "  warnings.warn(\"pm4py.objects.petri.obj is deprecated. Please use the class pm4py.objects.petri_net.obj instead.\")\n",
      "D:\\Program Files\\Anaconda\\lib\\site-packages\\pm4py\\objects\\petri\\exporter\\__init__.py:21: UserWarning: please use the pm4py.objects.petri_net.exporter package instead.\n",
      "  warnings.warn('please use the pm4py.objects.petri_net.exporter package instead.')\n",
      "D:\\Program Files\\Anaconda\\lib\\site-packages\\pm4py\\objects\\petri\\importer\\__init__.py:21: UserWarning: please use the pm4py.objects.petri_net.importer package instead.\n",
      "  warnings.warn('please use the pm4py.objects.petri_net.importer package instead.')\n",
      "D:\\Program Files\\Anaconda\\lib\\site-packages\\pm4py\\objects\\petri\\petrinet.py:19: UserWarning: pm4py.objects.petri.petrinet is deprecated. Please use the class pm4py.objects.petri_net.obj instead.\n",
      "  warnings.warn(\"pm4py.objects.petri.petrinet is deprecated. Please use the class pm4py.objects.petri_net.obj instead.\")\n",
      "D:\\Program Files\\Anaconda\\lib\\site-packages\\pm4py\\visualization\\petrinet\\__init__.py:20: UserWarning: please use the pm4py.visualization.petri_net package instead\n",
      "  warnings.warn(\"please use the pm4py.visualization.petri_net package instead\")\n"
     ]
    }
   ],
   "source": [
    "from ocpa.objects.log.importer.csv import factory as ocel_import_factory\n",
    "from ocpa.objects.log.importer.ocel import factory as ocel_import_factory\n",
    "from ocpa.visualization.log.variants import factory as variants_visualization_factory"
   ]
  },
  {
   "cell_type": "markdown",
   "id": "d65acc83",
   "metadata": {},
   "source": [
    "<h3>Import Test OCEL File</h3>\n",
    "OCEL file downloadable from `http://ocel-standard.org/`. However, for testing a small OCEL file containing two process executions is used."
   ]
  },
  {
   "cell_type": "code",
   "execution_count": 3,
   "id": "d2079d5f",
   "metadata": {},
   "outputs": [],
   "source": [
    "filename = \"OCEL_example.jsonocel\"\n",
    "ocel = ocel_import_factory.apply(filename)"
   ]
  },
  {
   "cell_type": "markdown",
   "id": "000ac4be",
   "metadata": {},
   "source": [
    "<h3>Variant Statistics</h3>"
   ]
  },
  {
   "cell_type": "code",
   "execution_count": 4,
   "id": "c71ea9df",
   "metadata": {},
   "outputs": [
    {
     "name": "stdout",
     "output_type": "stream",
     "text": [
      "Number of process executions: 2\n",
      "Number of variants: 2\n",
      "The variants: ['d8bd21497c25849b975ad8ad250a1787', '87dbcc253e53fc464e31e0ad32a182d8']\n"
     ]
    }
   ],
   "source": [
    "print(\"Number of process executions: \"+str(len(ocel.process_executions)))\n",
    "print(\"Number of variants: \"+str(len(ocel.variants)))\n",
    "print(\"The variants: \" + str(ocel.variants))"
   ]
  },
  {
   "cell_type": "markdown",
   "id": "33213dd6",
   "metadata": {},
   "source": [
    "<h3>Variant Layouting</h3>"
   ]
  },
  {
   "cell_type": "code",
   "execution_count": 5,
   "id": "e0df3197",
   "metadata": {},
   "outputs": [
    {
     "name": "stdout",
     "output_type": "stream",
     "text": [
      "([['A', [[0, 0], [2]]], ['B', [[1, 1], [2]]], ['E', [[0, 1], [1, 0]]], ['C', [[2, 2], [0, 1, 2]]], ['D', [[3, 3], [2]]], ['F', [[3, 3], [1, 0]]], ['G', [[4, 4], [0]]]], {0: ('items', 'items_1'), 1: ('items', 'items_2'), 2: ('orders', 'orders_1')})\n"
     ]
    }
   ],
   "source": [
    "variant_layouting = variants_visualization_factory.apply(ocel)\n",
    "print(variant_layouting[ocel.variants[0]])"
   ]
  },
  {
   "cell_type": "code",
   "execution_count": 6,
   "id": "9caf6249",
   "metadata": {},
   "outputs": [
    {
     "name": "stdout",
     "output_type": "stream",
     "text": [
      "([['A', [[0, 0], [1]]], ['D', [[3, 3], [1]]], ['B', [[1, 1], [1]]], ['C', [[2, 2], [1, 0]]]], {0: ('items', 'items_1'), 1: ('orders', 'orders_1')})\n"
     ]
    }
   ],
   "source": [
    "print(variant_layouting[ocel.variants[1]])"
   ]
  },
  {
   "cell_type": "code",
   "execution_count": 7,
   "id": "b0ff2837",
   "metadata": {},
   "outputs": [
    {
     "ename": "IndentationError",
     "evalue": "expected an indented block (<ipython-input-7-e30016ef2168>, line 3)",
     "output_type": "error",
     "traceback": [
      "\u001b[1;36m  File \u001b[1;32m\"<ipython-input-7-e30016ef2168>\"\u001b[1;36m, line \u001b[1;32m3\u001b[0m\n\u001b[1;33m    class AtomicSharedActivity(DualSharedSubProcess):\u001b[0m\n\u001b[1;37m    ^\u001b[0m\n\u001b[1;31mIndentationError\u001b[0m\u001b[1;31m:\u001b[0m expected an indented block\n"
     ]
    }
   ],
   "source": [
    "class DualSharedSubProcess:\n",
    "    \n",
    "class AtomicSharedActivity(DualSharedSubProcess):\n",
    "    "
   ]
  },
  {
   "cell_type": "markdown",
   "id": "07a0f95c",
   "metadata": {},
   "source": [
    "<h2>Order-Preserving Shared Activities</h2>"
   ]
  },
  {
   "cell_type": "code",
   "execution_count": 46,
   "id": "9663c3e2",
   "metadata": {},
   "outputs": [],
   "source": [
    "def MaxSharedActivities(subvariant1, subvariant2):\n",
    "    # Provisional data structures:\n",
    "    # Input - subvariant1, subvariant2: lists\n",
    "    # Output - result: Dict<ActivityName:Index1, Index2>\n",
    "    \n",
    "    # Initialization, copy elements\n",
    "    activitySets = []\n",
    "    l1 = subvariant1\n",
    "    \n",
    "    # Retrieves all common sublists that ensure the precise order\n",
    "    for i in range(len(l1)):\n",
    "        \n",
    "        # Keeping track of the original indices and the remaining sublists\n",
    "        l2 = subvariant2\n",
    "        l2I = list(range(0,len(subvariant2)))\n",
    "        set = dict()\n",
    "        \n",
    "        # For each activity in subvariant1 as starting point find the list of activities\n",
    "        # that appear in both variants in the same order\n",
    "        for j in range(i,len(l1)):\n",
    "            if (l1[j] in l2):\n",
    "                set[l1[j]]=(j,l2I[l2.index(l1[j])])\n",
    "                l2I = l2I[l2.index(l1[j])+1:]\n",
    "                l2 = l2[l2.index(l1[j])+1:]\n",
    "        activitySets.append(set)\n",
    "        \n",
    "    # Return the maximal list of activities for optimality\n",
    "    return max(activitySets, key=len)     "
   ]
  },
  {
   "cell_type": "code",
   "execution_count": 55,
   "id": "5eeb39cb",
   "metadata": {},
   "outputs": [
    {
     "name": "stdout",
     "output_type": "stream",
     "text": [
      "{'D': (1, 1), 'B': (4, 2)}\n",
      "['D', 'B']\n"
     ]
    }
   ],
   "source": [
    "print(MaxSharedActivities([\"A\",\"D\",\"A\",\"D\",\"B\"],[\"E\",\"D\",\"B\"]))\n"
   ]
  },
  {
   "cell_type": "markdown",
   "id": "a8d5765b",
   "metadata": {},
   "source": [
    "<h2>Optional Activities in Super-Variant</h2>"
   ]
  },
  {
   "cell_type": "code",
   "execution_count": 60,
   "id": "bfc5caab",
   "metadata": {},
   "outputs": [],
   "source": [
    "def OptionalActivity(subvariant1, subvariant2):\n",
    "    \n",
    "    # Provisional data structures:\n",
    "    # Input - subvariant1, subvariant2: lists\n",
    "    # Output - result: Dict<Index:ActivityName, Otp Indicator>\n",
    "    result = dict()\n",
    "    \n",
    "    # Determine common activities of both variants\n",
    "    intersection = MaxSharedActivities(subvariant1, subvariant2)\n",
    "    \n",
    "    # If the variants share no common variants, then they must represent choices, return\n",
    "    if (not len(intersection)):\n",
    "            return dict\n",
    "            \n",
    "    else :\n",
    "        print(\"The variants both contain the following common activities: \" + str(intersection))\n",
    "        \n",
    "    #Initiate indices\n",
    "    posInSuper = 0\n",
    "    startIndex1 = 0\n",
    "    startIndex2 = 0\n",
    "    currentIndex1 = 0\n",
    "    currentIndex2 = 0\n",
    "        \n",
    "    # For each commonly shared activities, check the subprocesses between the current\n",
    "    # activity and previous shared activity.\n",
    "    for i in range(len(intersection)):\n",
    "        \n",
    "        #TODO always takes the first element\n",
    "        # Determine the corresponding indices of the current shared activity in both variants\n",
    "        currentIndex1 = intersection[list(intersection.keys())[i]][0]\n",
    "        currentIndex2 = intersection[list(intersection.keys())[i]][1]\n",
    "        \n",
    "        # Determine the corresponding preceeding subprocesses between to shared activities\n",
    "        preceeding1 = subvariant1[startIndex1:currentIndex1]\n",
    "        preceeding2 = subvariant2[startIndex2:currentIndex2]    \n",
    "        print(\"Non-matching preceeding subprocess of variant 1: \" + str(preceeding1))\n",
    "        print(\"Non-matching preceeding subprocess of variant 2: \" + str(preceeding2))\n",
    "        \n",
    "        # If one of the subprocesses is empty, then add the other subprocess as optional\n",
    "        if(preceeding1==[]):\n",
    "            # Add every activity as atomic to the supervariant and as optional\n",
    "            for i in range(startIndex2,currentIndex2):\n",
    "                result[posInSuper] = (subvariant2[i],\"Opt\")\n",
    "                posInSuper+=1 \n",
    "            # Add the common activity to the supervariant, not as optional    \n",
    "            result[posInSuper] = (subvariant2[currentIndex2],\"NOpt\")\n",
    "            posInSuper+=1\n",
    "        \n",
    "        # If the other subprocesses is empty, then add the first subprocess as optional\n",
    "        elif(preceeding2==[]):\n",
    "            # Add every activity as atomic to the supervariant and as optional\n",
    "            for i in range(startIndex1,currentIndex1):\n",
    "                result[posInSuper] = (subvariant1[i],\"Opt\")\n",
    "                posInSuper+=1  \n",
    "            # Add the common activity to the supervariant, not as optional \n",
    "            result[posInSuper] = (subvariant1[currentIndex1],\"NOpt\")\n",
    "            posInSuper+=1\n",
    "            \n",
    "        else:\n",
    "            # In this case, neither one or the other subprocesses is optional\n",
    "            # we must summarize the underlying process\n",
    "            return result\n",
    "\n",
    "        startIndex1 = currentIndex1+1\n",
    "        startIndex2 = currentIndex2+1\n",
    "        \n",
    "    # Variant 1 has remaining activities while variant 2 does not\n",
    "    if(currentIndex1<len(subvariant1)-1 and currentIndex2==len(subvariant2)-1):\n",
    "        for i in range(startIndex1,len(subvariant1)):\n",
    "                result[posInSuper] = (subvariant1[i],\"Opt\")\n",
    "                posInSuper+=1\n",
    "        \n",
    "    # Variant 2 has remaining activities while variant 1 does not\n",
    "    elif(currentIndex2<len(subvariant2)-1 and currentIndex1==len(subvariant1)-1):\n",
    "        for i in range(startIndex2,len(subvariant2)):\n",
    "            result[posInSuper] = (subvariant2[i],\"Opt\")\n",
    "            posInSuper+=1\n",
    "            \n",
    "    else:\n",
    "        # In this case, neither one or the other ending subprocesses is optional\n",
    "        # we must summarize the underlying process\n",
    "        return result\n",
    "\n",
    "    return result\n",
    "        "
   ]
  },
  {
   "cell_type": "code",
   "execution_count": 61,
   "id": "be93d298",
   "metadata": {},
   "outputs": [
    {
     "name": "stdout",
     "output_type": "stream",
     "text": [
      "The variants both contain the following common activities: {'A': (1, 0), 'B': (2, 1), 'C': (3, 2), 'E': (4, 3)}\n",
      "Non-matching preceeding subprocess of variant 1: ['F']\n",
      "Non-matching preceeding subprocess of variant 2: []\n",
      "Non-matching preceeding subprocess of variant 1: []\n",
      "Non-matching preceeding subprocess of variant 2: []\n",
      "Non-matching preceeding subprocess of variant 1: []\n",
      "Non-matching preceeding subprocess of variant 2: []\n",
      "Non-matching preceeding subprocess of variant 1: []\n",
      "Non-matching preceeding subprocess of variant 2: []\n",
      "{0: ('F', 'Opt'), 1: ('A', 'NOpt'), 2: ('B', 'NOpt'), 3: ('C', 'NOpt'), 4: ('E', 'NOpt'), 5: ('G', 'Opt'), 6: ('H', 'Opt')}\n"
     ]
    }
   ],
   "source": [
    "optionalVariant = OptionalActivity([\"F\",\"A\",\"B\",\"C\",\"E\"],[\"A\",\"B\",\"C\",\"E\",\"G\",\"H\"])\n",
    "print(optionalVariant)"
   ]
  },
  {
   "cell_type": "code",
   "execution_count": null,
   "id": "54619d3e",
   "metadata": {},
   "outputs": [],
   "source": []
  },
  {
   "cell_type": "code",
   "execution_count": null,
   "id": "9a98b1c7",
   "metadata": {},
   "outputs": [],
   "source": []
  }
 ],
 "metadata": {
  "kernelspec": {
   "display_name": "Python 3",
   "language": "python",
   "name": "python3"
  },
  "language_info": {
   "codemirror_mode": {
    "name": "ipython",
    "version": 3
   },
   "file_extension": ".py",
   "mimetype": "text/x-python",
   "name": "python",
   "nbconvert_exporter": "python",
   "pygments_lexer": "ipython3",
   "version": "3.8.10"
  },
  "toc": {
   "base_numbering": 1,
   "nav_menu": {},
   "number_sections": true,
   "sideBar": true,
   "skip_h1_title": false,
   "title_cell": "Table of Contents",
   "title_sidebar": "Contents",
   "toc_cell": false,
   "toc_position": {
    "height": "calc(100% - 180px)",
    "left": "10px",
    "top": "150px",
    "width": "384px"
   },
   "toc_section_display": true,
   "toc_window_display": true
  }
 },
 "nbformat": 4,
 "nbformat_minor": 5
}
