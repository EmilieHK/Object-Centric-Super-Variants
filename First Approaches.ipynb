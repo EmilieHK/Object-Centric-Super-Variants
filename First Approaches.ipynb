{
 "cells": [
  {
   "cell_type": "markdown",
   "id": "c851ce8f",
   "metadata": {},
   "source": [
    "<h3>Imports</h3>"
   ]
  },
  {
   "cell_type": "code",
   "execution_count": 1,
   "id": "8ff5ecb5",
   "metadata": {},
   "outputs": [],
   "source": [
    "from ocpa.objects.log.importer.csv import factory as ocel_import_factory\n",
    "from ocpa.objects.log.importer.ocel import factory as ocel_import_factory\n",
    "from ocpa.visualization.log.variants import factory as variants_visualization_factory"
   ]
  },
  {
   "cell_type": "markdown",
   "id": "9de03e3a",
   "metadata": {},
   "source": [
    "<h3>Import Test OCEL File</h3>\n",
    "OCEL file downloadable from `http://ocel-standard.org/`. However, for testing a small OCEL file containing two process executions is used."
   ]
  },
  {
   "cell_type": "code",
   "execution_count": 51,
   "id": "d2079d5f",
   "metadata": {},
   "outputs": [],
   "source": [
    "filename = \"OCEL_example.jsonocel\"\n",
    "ocel = ocel_import_factory.apply(filename)"
   ]
  },
  {
   "cell_type": "markdown",
   "id": "4285ce4b",
   "metadata": {},
   "source": [
    "<h3>Variant Statistics</h3>"
   ]
  },
  {
   "cell_type": "code",
   "execution_count": 55,
   "id": "2d67a1fc",
   "metadata": {},
   "outputs": [
    {
     "name": "stdout",
     "output_type": "stream",
     "text": [
      "Number of process executions: 2\n",
      "Number of variants: 2\n"
     ]
    }
   ],
   "source": [
    "print(\"Number of process executions: \"+str(len(ocel.process_executions)))\n",
    "print(\"Number of variants: \"+str(len(ocel.variants)))\n",
    "variant_layouting = variants_visualization_factory.apply(ocel)"
   ]
  },
  {
   "cell_type": "code",
   "execution_count": 57,
   "id": "65f04a13",
   "metadata": {},
   "outputs": [
    {
     "name": "stdout",
     "output_type": "stream",
     "text": [
      "([['A', [[0, 0], [2]]], ['B', [[1, 1], [2]]], ['E', [[0, 1], [1, 0]]], ['C', [[2, 2], [1, 2, 0]]], ['D', [[3, 3], [2]]], ['F', [[3, 3], [1, 0]]], ['G', [[4, 4], [0]]]], {0: ('items', 'items_1'), 1: ('items', 'items_2'), 2: ('orders', 'orders_1')})\n"
     ]
    }
   ],
   "source": [
    "print(variant_layouting[ocel.variants[0]])"
   ]
  },
  {
   "cell_type": "code",
   "execution_count": 58,
   "id": "114ccdce",
   "metadata": {},
   "outputs": [
    {
     "name": "stdout",
     "output_type": "stream",
     "text": [
      "([['D', [[3, 3], [1]]], ['C', [[2, 2], [1, 0]]], ['A', [[0, 0], [1]]], ['B', [[1, 1], [1]]]], {0: ('items', 'items_1'), 1: ('orders', 'orders_1')})\n"
     ]
    }
   ],
   "source": [
    "print(variant_layouting[ocel.variants[1]])"
   ]
  },
  {
   "cell_type": "code",
   "execution_count": 159,
   "id": "f59fc4ed",
   "metadata": {},
   "outputs": [],
   "source": [
    "def OptionalActivity(subvariant1, subvariant2):\n",
    "    #Case 1 and 2: One subvariant is empty, then the other subvariant is entirely optional\n",
    "    if not len(subvariant1):\n",
    "        keys = list(range(0, len(subvariant2), 1))\n",
    "        opt = [\"Opt\" for i in range(0, len(subvariant2))]\n",
    "        subvariant2 = zip(subvariant2, opt)\n",
    "        return dict((zip(keys, subvariant2)))\n",
    "    if not len(subvariant2):\n",
    "        keys = list(range(0, len(subvariant1), 1))\n",
    "        opt = [\"Opt\" for i in range(0, len(subvariant1))]\n",
    "        subvariant2 = dict(zip(subvariant1, opt))\n",
    "        return (zip(keys, subvariant1))\n",
    "    else:\n",
    "        result = dict()\n",
    "        intersection = list(set(subvariant1).intersection(subvariant2))\n",
    "        print(\"Intersection: \" + str(intersection))\n",
    "        posInResult = 0\n",
    "        start1 = 0\n",
    "        start2 = 0\n",
    "        index1 = 0\n",
    "        index2 = 0\n",
    "        for i in range(len(intersection)):\n",
    "            print(\"Indices of substrings: \" + str(start1) + \" and \" + str(start2))\n",
    "            index1 = subvariant1.index(intersection[i])\n",
    "            index2 = subvariant2.index(intersection[i])\n",
    "            print(\"Indices of intersection: \" + str(index1) + \" and \" + str(index2))\n",
    "            preceeding1 = subvariant1[start1:index1]\n",
    "            preceeding2 = subvariant2[start2:index2]\n",
    "            print(\"Non-matching preceeding subprocess of variant 1: \" + str(preceeding1))\n",
    "            print(\"Non-matching preceeding subprocess of variant 2: \" + str(preceeding2))\n",
    "            if(preceeding1==[]):\n",
    "                for i in range(start2,index2):\n",
    "                    result[posInResult] = (subvariant2[i],\"Opt\")\n",
    "                    posInResult+=1\n",
    "                    print(posInResult)\n",
    "                result[posInResult] = (subvariant2[index2],\"NOpt\")\n",
    "                print(subvariant1[index1+1:])  \n",
    "                print(subvariant2[index2+1:])  \n",
    "            elif(preceeding2==[]):\n",
    "                for i in range(start1,index1):\n",
    "                    result[posInResult] = (subvariant1[i],\"Opt\")\n",
    "                    posInResult+=1\n",
    "                    print(posInResult)\n",
    "                result[index1] = (subvariant1[index1],\"NOpt\")\n",
    "                print(subvariant1[index1+1:])  \n",
    "                print(subvariant2[index2+1:]) \n",
    "            start1 = index1+1\n",
    "            start2 = index2+1\n",
    "            print(result)\n",
    "        return result\n",
    "        "
   ]
  },
  {
   "cell_type": "code",
   "execution_count": 160,
   "id": "a5979250",
   "metadata": {},
   "outputs": [
    {
     "name": "stdout",
     "output_type": "stream",
     "text": [
      "Intersection: ['A', 'C']\n",
      "Indices of substrings: 0 and 0\n",
      "Indices of intersection: 2 and 0\n",
      "Non-matching preceeding subprocess of variant 1: ['E', 'T']\n",
      "Non-matching preceeding subprocess of variant 2: []\n",
      "1\n",
      "2\n",
      "['C']\n",
      "['B', 'C']\n",
      "{0: ('E', 'Opt'), 1: ('T', 'Opt'), 2: ('A', 'NOpt')}\n",
      "Indices of substrings: 3 and 1\n",
      "Indices of intersection: 3 and 2\n",
      "Non-matching preceeding subprocess of variant 1: []\n",
      "Non-matching preceeding subprocess of variant 2: ['B']\n",
      "3\n",
      "[]\n",
      "[]\n",
      "{0: ('E', 'Opt'), 1: ('T', 'Opt'), 2: ('C', 'NOpt')}\n"
     ]
    }
   ],
   "source": [
    "optionalVariant = OptionalActivity([\"E\",\"T\",\"A\",\"C\"],[\"A\",\"B\",\"C\"])\n",
    "\n"
   ]
  },
  {
   "cell_type": "code",
   "execution_count": null,
   "id": "0ba09649",
   "metadata": {},
   "outputs": [],
   "source": []
  },
  {
   "cell_type": "code",
   "execution_count": null,
   "id": "21af9123",
   "metadata": {},
   "outputs": [],
   "source": []
  }
 ],
 "metadata": {
  "kernelspec": {
   "display_name": "Python 3",
   "language": "python",
   "name": "python3"
  },
  "language_info": {
   "codemirror_mode": {
    "name": "ipython",
    "version": 3
   },
   "file_extension": ".py",
   "mimetype": "text/x-python",
   "name": "python",
   "nbconvert_exporter": "python",
   "pygments_lexer": "ipython3",
   "version": "3.8.10"
  },
  "toc": {
   "base_numbering": 1,
   "nav_menu": {},
   "number_sections": true,
   "sideBar": true,
   "skip_h1_title": false,
   "title_cell": "Table of Contents",
   "title_sidebar": "Contents",
   "toc_cell": false,
   "toc_position": {},
   "toc_section_display": true,
   "toc_window_display": false
  }
 },
 "nbformat": 4,
 "nbformat_minor": 5
}
